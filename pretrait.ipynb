{
 "cells": [
  {
   "cell_type": "markdown",
   "metadata": {},
   "source": [
    "# Data Transformation to feed finetuning.py"
   ]
  },
  {
   "cell_type": "code",
   "execution_count": 1,
   "metadata": {},
   "outputs": [
    {
     "data": {
      "text/html": [
       "<div>\n",
       "<style scoped>\n",
       "    .dataframe tbody tr th:only-of-type {\n",
       "        vertical-align: middle;\n",
       "    }\n",
       "\n",
       "    .dataframe tbody tr th {\n",
       "        vertical-align: top;\n",
       "    }\n",
       "\n",
       "    .dataframe thead th {\n",
       "        text-align: right;\n",
       "    }\n",
       "</style>\n",
       "<table border=\"1\" class=\"dataframe\">\n",
       "  <thead>\n",
       "    <tr style=\"text-align: right;\">\n",
       "      <th></th>\n",
       "      <th>smiles</th>\n",
       "      <th>label</th>\n",
       "    </tr>\n",
       "  </thead>\n",
       "  <tbody>\n",
       "    <tr>\n",
       "      <th>0</th>\n",
       "      <td>CNC1CCC(c2ccccc21)c1cc(Cl)c(Cl)cc1</td>\n",
       "      <td>1</td>\n",
       "    </tr>\n",
       "    <tr>\n",
       "      <th>1</th>\n",
       "      <td>CNCCC(Oc1ccc(cc1)C(F)(F)F)c1ccccc1</td>\n",
       "      <td>1</td>\n",
       "    </tr>\n",
       "    <tr>\n",
       "      <th>2</th>\n",
       "      <td>CN(C)CCCC1(OCc2cc(ccc12)C#N)c1ccc(F)cc1</td>\n",
       "      <td>1</td>\n",
       "    </tr>\n",
       "    <tr>\n",
       "      <th>3</th>\n",
       "      <td>CN(C)CCCN1c2ccccc2CCc2ccc(Cl)cc12</td>\n",
       "      <td>1</td>\n",
       "    </tr>\n",
       "    <tr>\n",
       "      <th>4</th>\n",
       "      <td>Cc1cc(C)c(cc1)Sc1ccccc1N1CCNCC1</td>\n",
       "      <td>1</td>\n",
       "    </tr>\n",
       "  </tbody>\n",
       "</table>\n",
       "</div>"
      ],
      "text/plain": [
       "                                    smiles  label\n",
       "0       CNC1CCC(c2ccccc21)c1cc(Cl)c(Cl)cc1      1\n",
       "1       CNCCC(Oc1ccc(cc1)C(F)(F)F)c1ccccc1      1\n",
       "2  CN(C)CCCC1(OCc2cc(ccc12)C#N)c1ccc(F)cc1      1\n",
       "3        CN(C)CCCN1c2ccccc2CCc2ccc(Cl)cc12      1\n",
       "4          Cc1cc(C)c(cc1)Sc1ccccc1N1CCNCC1      1"
      ]
     },
     "execution_count": 1,
     "metadata": {},
     "output_type": "execute_result"
    }
   ],
   "source": [
    "import pandas as pd\n",
    "\n",
    "# data_path_cancer = \"../training_set_anxiety_encore_plus_full.csv\"\n",
    "# data_path_cancer = \"../training_set_antivirals.csv\"\n",
    "data_path_cancer = \"../ssris_dataset_std_smiles.csv\"\n",
    "data_cancer = pd.read_csv(data_path_cancer, sep=\",\", index_col=0)\n",
    "data_cancer.head()\n",
    "\n",
    "# data_cancer['against_cancer'] = data_cancer['against_anxiety'].fillna(0)\n",
    "data_cancer[\"classe\"] = data_cancer[\"against_depression\"].apply(lambda x: 1 if x else 0)\n",
    "# data_cancer[\"classe\"] = data_cancer[\"against_virus\"].apply(lambda x: 1 if x else 0)\n",
    "\n",
    "# data_cancer[\"classe\"] = data_cancer[\"against_depression\"].apply(lambda x: 1 if x else 0)\n",
    "data_cancer = data_cancer.rename(columns={\"classe\": \"label\"})\n",
    "# data_cancer = data_cancer.iloc[:, 2:]\n",
    "data_cancer = data_cancer.iloc[:, [0, 2]]\n",
    "data_cancer.head()"
   ]
  },
  {
   "cell_type": "code",
   "execution_count": 3,
   "metadata": {},
   "outputs": [
    {
     "name": "stdout",
     "output_type": "stream",
     "text": [
      "\n",
      "Nombre de labels 1 dans l'ensemble d'entraînement: 37\n",
      "Nombre de labels 1 dans l'ensemble d'éval: 11\n",
      "Nombre de labels 1 dans l'ensemble de test: 4\n"
     ]
    }
   ],
   "source": [
    "save_path = './SMILES-BERT/Datasets/training.csv'\n",
    "data_cancer.to_csv(save_path, index=False)\n",
    "\n",
    "from sklearn.model_selection import train_test_split\n",
    "\n",
    "train_df, test_df = train_test_split(data_cancer, test_size=0.10, random_state=42)\n",
    "train_df, eval_df = train_test_split(train_df, test_size=0.2, random_state=42)\n",
    "save_train_path = './SMILES-BERT/Datasets/train.csv'\n",
    "train_df.to_csv(save_train_path, index=False)\n",
    "save_test_path = './SMILES-BERT/Datasets/test.csv'\n",
    "test_df.to_csv(save_test_path, index=False)\n",
    "save_eval_path = './SMILES-BERT/Datasets/eval.csv'\n",
    "eval_df.to_csv(save_eval_path, index=False)\n",
    "\n",
    "num_label_1 = train_df[train_df[\"label\"] == 1].shape[0]\n",
    "num_label_2 = eval_df[eval_df[\"label\"] == 1].shape[0]\n",
    "num_label_3 = test_df[test_df[\"label\"] == 1].shape[0]\n",
    "\n",
    "print(f\"\\nNombre de labels 1 dans l'ensemble d'entraînement: {num_label_1}\")\n",
    "print(f\"Nombre de labels 1 dans l'ensemble d'éval: {num_label_2}\")\n",
    "print(f\"Nombre de labels 1 dans l'ensemble de test: {num_label_3}\")\n",
    "\n"
   ]
  },
  {
   "cell_type": "markdown",
   "metadata": {},
   "source": [
    "# Data Transformation of COCONUT to feed predict.py"
   ]
  },
  {
   "cell_type": "code",
   "execution_count": 4,
   "metadata": {},
   "outputs": [
    {
     "data": {
      "text/html": [
       "<div>\n",
       "<style scoped>\n",
       "    .dataframe tbody tr th:only-of-type {\n",
       "        vertical-align: middle;\n",
       "    }\n",
       "\n",
       "    .dataframe tbody tr th {\n",
       "        vertical-align: top;\n",
       "    }\n",
       "\n",
       "    .dataframe thead th {\n",
       "        text-align: right;\n",
       "    }\n",
       "</style>\n",
       "<table border=\"1\" class=\"dataframe\">\n",
       "  <thead>\n",
       "    <tr style=\"text-align: right;\">\n",
       "      <th></th>\n",
       "      <th>smiles</th>\n",
       "      <th>against_depression</th>\n",
       "      <th>smiles_length</th>\n",
       "    </tr>\n",
       "  </thead>\n",
       "  <tbody>\n",
       "    <tr>\n",
       "      <th>0</th>\n",
       "      <td>CNC1CCC(c2ccccc21)c1cc(Cl)c(Cl)cc1</td>\n",
       "      <td>True</td>\n",
       "      <td>34</td>\n",
       "    </tr>\n",
       "    <tr>\n",
       "      <th>1</th>\n",
       "      <td>CNCCC(Oc1ccc(cc1)C(F)(F)F)c1ccccc1</td>\n",
       "      <td>True</td>\n",
       "      <td>34</td>\n",
       "    </tr>\n",
       "    <tr>\n",
       "      <th>2</th>\n",
       "      <td>CN(C)CCCC1(OCc2cc(ccc12)C#N)c1ccc(F)cc1</td>\n",
       "      <td>True</td>\n",
       "      <td>39</td>\n",
       "    </tr>\n",
       "    <tr>\n",
       "      <th>3</th>\n",
       "      <td>CN(C)CCCN1c2ccccc2CCc2ccc(Cl)cc12</td>\n",
       "      <td>True</td>\n",
       "      <td>33</td>\n",
       "    </tr>\n",
       "    <tr>\n",
       "      <th>4</th>\n",
       "      <td>Cc1cc(C)c(cc1)Sc1ccccc1N1CCNCC1</td>\n",
       "      <td>True</td>\n",
       "      <td>31</td>\n",
       "    </tr>\n",
       "  </tbody>\n",
       "</table>\n",
       "</div>"
      ],
      "text/plain": [
       "                                    smiles  against_depression  smiles_length\n",
       "0       CNC1CCC(c2ccccc21)c1cc(Cl)c(Cl)cc1                True             34\n",
       "1       CNCCC(Oc1ccc(cc1)C(F)(F)F)c1ccccc1                True             34\n",
       "2  CN(C)CCCC1(OCc2cc(ccc12)C#N)c1ccc(F)cc1                True             39\n",
       "3        CN(C)CCCN1c2ccccc2CCc2ccc(Cl)cc12                True             33\n",
       "4          Cc1cc(C)c(cc1)Sc1ccccc1N1CCNCC1                True             31"
      ]
     },
     "execution_count": 4,
     "metadata": {},
     "output_type": "execute_result"
    }
   ],
   "source": [
    "df_training = \"../ssris_dataset_std_smiles.csv\"\n",
    "df_training = pd.read_csv(df_training, sep=\",\", index_col=0)\n",
    "df_training['smiles_length'] = df_training['smiles'].apply(len)\n",
    "\n",
    "mean_length = df_training['smiles_length'].mean()\n",
    "std_length = df_training['smiles_length'].std()\n",
    "\n",
    "lower_bound = mean_length - 1 * std_length\n",
    "upper_bound = mean_length + 1 * std_length\n",
    "df_training.head()"
   ]
  },
  {
   "cell_type": "code",
   "execution_count": 5,
   "metadata": {},
   "outputs": [
    {
     "name": "stdout",
     "output_type": "stream",
     "text": [
      "407270\n",
      "149962\n"
     ]
    }
   ],
   "source": [
    "import pandas as pd\n",
    "\n",
    "df_coconut = \"../COCONUT_DB_std_smiles.csv\"\n",
    "df = pd.read_csv(df_coconut, sep=\",\", index_col=0)\n",
    "print(len(df))\n",
    "\n",
    "# Calculer la longueur de chaque chaîne dans la colonne \"smiles\"\n",
    "df['smiles_length'] = df['smiles'].apply(len)\n",
    "\n",
    "filtered_df = df[(df['smiles_length'] >= lower_bound) & (df['smiles_length'] <= upper_bound)]\n",
    "\n",
    "# Si vous souhaitez supprimer la colonne 'smiles_length' après le filtrage, vous pouvez le faire\n",
    "filtered_df = filtered_df.drop(columns=['smiles_length'])\n",
    "print(len(filtered_df))\n",
    "\n",
    "save_path = '../COCONUT_DB_std_smiles_filtered.csv'\n",
    "filtered_df.to_csv(save_path, index=False)"
   ]
  }
 ],
 "metadata": {
  "kernelspec": {
   "display_name": "hugging_face",
   "language": "python",
   "name": "python3"
  },
  "language_info": {
   "codemirror_mode": {
    "name": "ipython",
    "version": 3
   },
   "file_extension": ".py",
   "mimetype": "text/x-python",
   "name": "python",
   "nbconvert_exporter": "python",
   "pygments_lexer": "ipython3",
   "version": "3.11.8"
  }
 },
 "nbformat": 4,
 "nbformat_minor": 2
}
